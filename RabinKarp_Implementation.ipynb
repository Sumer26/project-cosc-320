{
 "cells": [
  {
   "cell_type": "code",
   "execution_count": 1,
   "id": "d754c483-252a-425a-98df-0e51e17a908a",
   "metadata": {},
   "outputs": [
    {
     "name": "stdout",
     "output_type": "stream",
     "text": [
      "This is the implementation of the Rabin-Karp Fingerprint Algorithm\n"
     ]
    }
   ],
   "source": [
    "print('This is the implementation of the Rabin-Karp Fingerprint Algorithm')"
   ]
  },
  {
   "cell_type": "code",
   "execution_count": 74,
   "id": "001e0e3a-0683-4de5-bada-06463c55f187",
   "metadata": {},
   "outputs": [
    {
     "name": "stdout",
     "output_type": "stream",
     "text": [
      "Found 1 occurrences of 'apple' in file 'file_303.txt'\n",
      "Found 1 occurrences of 'apple' in file 'file_458.txt'\n",
      "Found 1 occurrences of 'apple' in file 'file_417.txt'\n",
      "Found 1 occurrences of 'apple' in file 'file_376.txt'\n",
      "Found 1 occurrences of 'apple' in file 'file_220.txt'\n",
      "Found 1 occurrences of 'apple' in file 'file_126.txt'\n",
      "Found 3 occurrences of 'apple' in file 'file_441.txt'\n",
      "Found 1 occurrences of 'apple' in file 'file_303.txt'\n",
      "Found 1 occurrences of 'apple' in file 'file_458.txt'\n",
      "Found 1 occurrences of 'apple' in file 'file_417.txt'\n",
      "Found 1 occurrences of 'apple' in file 'file_376.txt'\n",
      "Found 1 occurrences of 'apple' in file 'file_220.txt'\n",
      "Found 1 occurrences of 'apple' in file 'file_126.txt'\n",
      "Found 3 occurrences of 'apple' in file 'file_441.txt'\n",
      "Found 1 occurrences of 'apple' in file 'file_303.txt'\n",
      "Found 1 occurrences of 'apple' in file 'file_458.txt'\n",
      "Found 1 occurrences of 'apple' in file 'file_417.txt'\n",
      "Found 1 occurrences of 'apple' in file 'file_376.txt'\n",
      "Found 1 occurrences of 'apple' in file 'file_220.txt'\n",
      "Found 1 occurrences of 'apple' in file 'file_126.txt'\n",
      "Found 3 occurrences of 'apple' in file 'file_441.txt'\n",
      "Found 1 occurrences of 'apple' in file 'file_303.txt'\n",
      "Found 1 occurrences of 'apple' in file 'file_458.txt'\n",
      "Found 1 occurrences of 'apple' in file 'file_417.txt'\n",
      "Found 1 occurrences of 'apple' in file 'file_376.txt'\n",
      "Found 1 occurrences of 'apple' in file 'file_220.txt'\n",
      "Found 1 occurrences of 'apple' in file 'file_126.txt'\n",
      "Found 3 occurrences of 'apple' in file 'file_441.txt'\n",
      "Found 1 occurrences of 'apple' in file 'file_303.txt'\n",
      "Found 1 occurrences of 'apple' in file 'file_458.txt'\n",
      "Found 1 occurrences of 'apple' in file 'file_417.txt'\n",
      "Found 1 occurrences of 'apple' in file 'file_376.txt'\n",
      "Found 1 occurrences of 'apple' in file 'file_220.txt'\n",
      "Found 1 occurrences of 'apple' in file 'file_126.txt'\n",
      "Found 3 occurrences of 'apple' in file 'file_441.txt'\n"
     ]
    }
   ],
   "source": [
    "import os\n",
    "import time\n",
    "import matplotlib.pyplot as plt\n",
    "\n",
    "def rabinKarp(path, pattern, d, q):\n",
    "    n=len(path)\n",
    "    m=len(pattern)\n",
    "    h=pow(d, m-1, q)\n",
    "    p=0\n",
    "    t0=0\n",
    "    for i in range(m):\n",
    "        p=(d*p + ord(pattern[i]))%q\n",
    "        t0=(d*t0 + ord(path[i]))%q\n",
    "    occurrences=[]\n",
    "    for s in range(n-m+1):\n",
    "        if p==t0:\n",
    "            if pattern==path[s:s+m]:\n",
    "                occurrences.append(s)\n",
    "        if s<n-m:\n",
    "            t1=(d*(t0-ord(path[s])*h)+ord(path[s+m]))%q\n",
    "            t0=t1\n",
    "    return occurrences\n",
    "\n",
    "def rabinKarpAlgorithm(path, pattern, d, q):\n",
    "    files=[]\n",
    "    for file in os.listdir(path):\n",
    "        if file.endswith(\".txt\"):\n",
    "            filePath=os.path.join(path, file)\n",
    "            with open(filePath, 'r') as f:\n",
    "                files.append(f.read())\n",
    "    occurrences = {}\n",
    "    startTime = time.time()\n",
    "    for i,file in enumerate(files):\n",
    "        occurrencesInFiles = rabinKarp(file, pattern, d, q)\n",
    "        if occurrencesInFiles:\n",
    "            occurrences[file] = occurrencesInFiles\n",
    "            print(f\"Found {len(occurrencesInFiles)} occurrences of '{pattern}' in file '{os.listdir(path)[i]}'\")\n",
    "    elapsedTime = time.time() - startTime\n",
    "    return occurrences, elapsedTime\n",
    "elapsedTimes = []\n",
    "for n in num_files:\n",
    "    occurrences, elapsedTime = rabinKarpAlgorithm('./Files', 'apple', 256, 101)\n",
    "    elapsedTimes.append(elapsedTime)"
   ]
  },
  {
   "cell_type": "code",
   "execution_count": null,
   "id": "917efb27-80d1-4994-8986-c2a6e00d7acb",
   "metadata": {},
   "outputs": [],
   "source": []
  }
 ],
 "metadata": {
  "kernelspec": {
   "display_name": "Python 3 (ipykernel)",
   "language": "python",
   "name": "python3"
  },
  "language_info": {
   "codemirror_mode": {
    "name": "ipython",
    "version": 3
   },
   "file_extension": ".py",
   "mimetype": "text/x-python",
   "name": "python",
   "nbconvert_exporter": "python",
   "pygments_lexer": "ipython3",
   "version": "3.9.13"
  }
 },
 "nbformat": 4,
 "nbformat_minor": 5
}
