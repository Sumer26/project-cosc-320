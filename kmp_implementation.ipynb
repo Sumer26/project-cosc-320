{
 "cells": [
  {
   "cell_type": "code",
   "execution_count": 7,
   "metadata": {},
   "outputs": [
    {
     "ename": "ModuleNotFoundError",
     "evalue": "No module named 'matplotlib'",
     "output_type": "error",
     "traceback": [
      "\u001b[0;31m---------------------------------------------------------------------------\u001b[0m",
      "\u001b[0;31mModuleNotFoundError\u001b[0m                       Traceback (most recent call last)",
      "Cell \u001b[0;32mIn [7], line 3\u001b[0m\n\u001b[1;32m      1\u001b[0m \u001b[39mimport\u001b[39;00m \u001b[39mos\u001b[39;00m\n\u001b[1;32m      2\u001b[0m \u001b[39mimport\u001b[39;00m \u001b[39mtime\u001b[39;00m\n\u001b[0;32m----> 3\u001b[0m \u001b[39mimport\u001b[39;00m \u001b[39mmatplotlib\u001b[39;00m\u001b[39m.\u001b[39;00m\u001b[39mpyplot\u001b[39;00m \u001b[39mas\u001b[39;00m \u001b[39mplt\u001b[39;00m\n\u001b[1;32m      5\u001b[0m \u001b[39mdef\u001b[39;00m \u001b[39mkmp\u001b[39m(masterString, pattern):\n\u001b[1;32m      6\u001b[0m     n \u001b[39m=\u001b[39m \u001b[39mlen\u001b[39m(masterString)\n",
      "\u001b[0;31mModuleNotFoundError\u001b[0m: No module named 'matplotlib'"
     ]
    }
   ],
   "source": [
    "import os\n",
    "import time\n",
    "import matplotlib.pyplot as plt\n",
    "\n",
    "def kmp(masterString, pattern):\n",
    "    n = len(masterString)\n",
    "    b = len(pattern)\n",
    "    t = computePatternFromMaster(pattern, b)\n",
    "    j = 0\n",
    "    occurrences = []\n",
    "    for i in range(n):\n",
    "        while j > 0 and pattern[j] != masterString[i]:\n",
    "            j = t[j-1]\n",
    "        if pattern[j] == masterString[i]:\n",
    "            j = j+1\n",
    "        if j == b:\n",
    "            occurrences.append(i-b+1)\n",
    "            j = t[j-1]\n",
    "            \n",
    "    return occurrences\n",
    " \n",
    "def computePatternFromMaster(pattern, b):\n",
    "    t = [0]*b\n",
    "    x = 0\n",
    "    for i in range(1, b):\n",
    "        while x > 0 and pattern[x] != pattern[i]:\n",
    "            x = t[x-1]\n",
    "        if pattern[x] == pattern[i]:\n",
    "            x = x+1\n",
    "        t[i] = x\n",
    "    return t\n",
    "\n",
    "def searchPatternKMP(location,pattern):\n",
    "    for file in os.listdir(location):\n",
    "        filepath = os.path.join(location, file)\n",
    "        if os.path.isfile(filepath):\n",
    "            with open(filepath, 'r', encoding='utf-8') as f:\n",
    "                content = f.read()\n",
    "                occurrences = kmp(content,pattern)\n",
    "                if len(occurrences) > 0:\n",
    "                    println(f\"Pattern {pattern} found {len(occurrences)} times in file {file}:\")\n",
    "                    for occurrence in occurrences:\n",
    "                        print(f\"  Occurrence at position {occurrence}\")\n",
    "\n",
    "def CalcRunTime(location, pattern):\n",
    "    fileSize = []\n",
    "    runTime = []\n",
    "    for filename in os.listdir(location):\n",
    "        filePath = os.path.join(location, filename)\n",
    "        if os.path.isfile(filePath):\n",
    "            with open(filePath, 'r') as file:\n",
    "                content = file.read()\n",
    "                size = len(content)\n",
    "                starttime = time.time()\n",
    "                occurrences = kmp(content, pattern)\n",
    "                endtime = time.time()\n",
    "                running_time = endtime - starttime\n",
    "                fileSize.append(size)\n",
    "                runTime.append(running_time)\n",
    "    return fileSize, runTime\n",
    "\n",
    "def plot_graph(location, pattern):\n",
    "    fileSize, runTime = CalcRunTime(location, pattern)\n",
    "    plt.plot(fileSize, runTime, label='KMP Algorithm')\n",
    "    plt.plot(fileSize, [t**2 for t in fileSize], label='n^2 Function')\n",
    "    plt.xlabel('File Size')\n",
    "    plt.ylabel('Running Time')\n",
    "    plt.title('KMP Algorithm Running Time')\n",
    "    plt.legend()\n",
    "    plt.show()\n",
    "\n",
    "location='./Files'\n",
    "pattern=input('What pattern do you want to search?')                        \n",
    "searchPatternKMP(location,pattern)\n",
    "print(\"This is the graph for the KMP analysis\")\n",
    "plot_graph(location, pattern)\n",
    "\n"
   ]
  },
  {
   "cell_type": "code",
   "execution_count": null,
   "metadata": {},
   "outputs": [],
   "source": []
  }
 ],
 "metadata": {
  "kernelspec": {
   "display_name": "Python 3 (ipykernel)",
   "language": "python",
   "name": "python3"
  },
  "language_info": {
   "codemirror_mode": {
    "name": "ipython",
    "version": 3
   },
   "file_extension": ".py",
   "mimetype": "text/x-python",
   "name": "python",
   "nbconvert_exporter": "python",
   "pygments_lexer": "ipython3",
   "version": "3.9.6"
  },
  "vscode": {
   "interpreter": {
    "hash": "31f2aee4e71d21fbe5cf8b01ff0e069b9275f58929596ceb00d14d90e3e16cd6"
   }
  }
 },
 "nbformat": 4,
 "nbformat_minor": 4
}
