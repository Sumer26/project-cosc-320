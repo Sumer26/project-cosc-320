{
 "cells": [
  {
   "attachments": {},
   "cell_type": "markdown",
   "metadata": {},
   "source": [
    "LCSS algorithm"
   ]
  },
  {
   "cell_type": "code",
   "execution_count": 2,
   "metadata": {},
   "outputs": [],
   "source": [
    "def LCSAlgorithm(a, b, x, y):\n",
    "    r = [[\"\" for j in range(y+1)] for i in range(x+1)]\n",
    "    l = [[0 for j in range(y+1)] for i in range(x+1)]\n",
    "\n",
    "    for i in range(1, x+1):\n",
    "        l[i][0] = 0\n",
    "\n",
    "    for j in range(1, y+1):\n",
    "        l[0][j] = 0\n",
    "\n",
    "    for i in range(1, x+1):\n",
    "        for j in range(1, y+1):\n",
    "            if a[i-1] == b[j-1]:\n",
    "                l[i][j] = l[i-1][j-1] + 1\n",
    "                r[i][j] = \"↖\"\n",
    "            elif l[i-1][j] >= l[i][j-1]:\n",
    "                l[i][j] = l[i-1][j]\n",
    "                r[i][j] = \"↑\"\n",
    "            else:\n",
    "                l[i][j] = l[i][j-1]\n",
    "                r[i][j] = \"←\"\n",
    "\n",
    "    return l, r\n",
    "\n",
    "def LCSOutput(r, a, i, j):\n",
    "    if i == 0 or j == 0:\n",
    "        return\n",
    "    if r[i][j] == \"↖\":\n",
    "        LCSOutput(r, a, i-1, j-1)\n",
    "        print(a[i-1], end=\"\")\n",
    "    elif r[i][j] == \"↑\":\n",
    "        LCSOutput(r, a, i-1, j)\n",
    "    else:\n",
    "        LCSOutput(r, a, i, j-1)\n"
   ]
  },
  {
   "cell_type": "code",
   "execution_count": 4,
   "metadata": {},
   "outputs": [
    {
     "name": "stdout",
     "output_type": "stream",
     "text": [
      "AAGDH"
     ]
    }
   ],
   "source": [
    "str1 = \"AAGDHSSQWEREWS\"\n",
    "str2 = \"DHAASDsdSAAGDHF\"\n",
    "len1 = len(str1) #length of string 1\n",
    "len2 = len(str2) # length of string 2\n",
    "l,r = LCSAlgorithm(str1,str2,len1,len2)\n",
    "LCSOutput(r,str1,len1,len2)"
   ]
  }
 ],
 "metadata": {
  "kernelspec": {
   "display_name": "Python 3",
   "language": "python",
   "name": "python3"
  },
  "language_info": {
   "codemirror_mode": {
    "name": "ipython",
    "version": 3
   },
   "file_extension": ".py",
   "mimetype": "text/x-python",
   "name": "python",
   "nbconvert_exporter": "python",
   "pygments_lexer": "ipython3",
   "version": "3.11.3"
  },
  "orig_nbformat": 4
 },
 "nbformat": 4,
 "nbformat_minor": 2
}
